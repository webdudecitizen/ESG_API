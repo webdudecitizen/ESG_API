{
 "cells": [
  {
   "cell_type": "code",
   "execution_count": 1,
   "id": "exceptional-evaluation",
   "metadata": {},
   "outputs": [],
   "source": [
    "import numpy as np\n",
    "import pandas as pd\n",
    "import matplotlib.pyplot as plt\n",
    "import scipy.stats as stats\n",
    "import itertools as it"
   ]
  },
  {
   "cell_type": "code",
   "execution_count": 2,
   "id": "attempted-belle",
   "metadata": {},
   "outputs": [],
   "source": [
    "#define black scholes parameters\n",
    "def d1(s_t, k, r, d, sigma, t):\n",
    "    return (np.log(s_t/k)+(r-d+(sigma**2)/2)*t)/(sigma*np.sqrt(t))\n",
    "    \n",
    "def d2(s_t, k, r, d, sigma, t):\n",
    "    return d1(s_t, k, r, d, sigma, t)-sigma*np.sqrt(t)\n",
    "\n",
    "#define call option price\n",
    "def C(s_t, k, r, d, sigma, t):\n",
    "    return stats.norm.cdf(d1(s_t, k, r, d, sigma, t),0.0,1.0)*s_t*np.exp(-d*t)-stats.norm.cdf(d2(s_t, k, r, d, sigma, t),0.0,1.0)*k*np.exp(-r*t)\n",
    "\n",
    "#define put option price\n",
    "def P(s_t, k, r, d, sigma, t):\n",
    "    return stats.norm.cdf(-d2(s_t, k, r, d, sigma, t),0.0,1.0)*k*np.exp(-r*t)-stats.norm.cdf(-d1(s_t, k, r, d, sigma, t),0.0,1.0)*s_t*np.exp(-d*t)"
   ]
  },
  {
   "cell_type": "code",
   "execution_count": 3,
   "id": "sitting-scott",
   "metadata": {},
   "outputs": [],
   "source": [
    "def delta(s_t, k, r, d, sigma, t, type = 'call'):\n",
    "    if type == 'call':\n",
    "        return stats.norm.cdf(d1(s_t, k, r, d, sigma, t),0.0,1.0)\n",
    "    elif type == 'put':\n",
    "        return - stats.norm.cdf(-d1(s_t, k, r, d, sigma, t),0.0,1.0)\n",
    "    \n",
    "def gamma(s_t, k, r, d, sigma, t):\n",
    "        return stats.norm.cdf(d1(s_t, k, r, d, sigma, t),0.0,1.0)/(s_t*sigma*sqrt(t))\n",
    "    \n",
    "def vega(s_t, k, r, d, sigma, t):\n",
    "        return stats.norm.cdf(d1(s_t, k, r, d, sigma, t),0.0,1.0)*s_t*sqrt(t)\n",
    "    \n",
    "def theta(s_t, k, r, d, sigma, t, type = 'call'):\n",
    "    if type == 'call':\n",
    "        return - stats.norm.cdf(d1(s_t, k, r, d, sigma, t),0.0,1.0)*s_t*sigma/(2*t) - r*k*np.exp(-r*t)*stats.norm.cdf(d2(s_t, k, r, d, sigma, t),0.0,1.0)\n",
    "    elif type == 'put':\n",
    "        return - stats.norm.cdf(-d1(s_t, k, r, d, sigma, t),0.0,1.0)*s_t*sigma/(2*t) + r*k*np.exp(-r*t)*stats.norm.cdf(-d2(s_t, k, r, d, sigma, t),0.0,1.0)\n",
    "    \n",
    "def rho(s_t, k, r, d, sigma, t, type = 'call'):\n",
    "    if type == 'call':\n",
    "        return k*t*np.exp(-r*t)*stats.norm.cdf(d2(s_t, k, r, d, sigma, t),0.0,1.0)\n",
    "    elif type == 'put':\n",
    "        return - k*t*np.exp(-r*t)*stats.norm.cdf(-d2(s_t, k, r, d, sigma, t),0.0,1.0)"
   ]
  }
 ],
 "metadata": {
  "kernelspec": {
   "display_name": "Python 3",
   "language": "python",
   "name": "python3"
  },
  "language_info": {
   "codemirror_mode": {
    "name": "ipython",
    "version": 3
   },
   "file_extension": ".py",
   "mimetype": "text/x-python",
   "name": "python",
   "nbconvert_exporter": "python",
   "pygments_lexer": "ipython3",
   "version": "3.8.8"
  }
 },
 "nbformat": 4,
 "nbformat_minor": 5
}
